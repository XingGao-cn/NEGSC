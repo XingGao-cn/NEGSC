{
 "cells": [
  {
   "cell_type": "code",
   "execution_count": 1,
   "id": "9236f2bd",
   "metadata": {},
   "outputs": [],
   "source": [
    "import dgl.nn as dglnn\n",
    "import dgl\n",
    "import math\n",
    "from dgl import from_networkx\n",
    "import torch.nn as nn\n",
    "import torch as th\n",
    "import torch\n",
    "import torch.nn.functional as F\n",
    "import dgl.function as fn\n",
    "import networkx as nx\n",
    "import pandas as pd\n",
    "import socket\n",
    "import struct\n",
    "import random \n",
    "from sklearn.preprocessing import LabelEncoder\n",
    "from sklearn.preprocessing import StandardScaler, MinMaxScaler\n",
    "from sklearn.model_selection import train_test_split\n",
    "import category_encoders as ce\n",
    "import seaborn as sns\n",
    "import matplotlib.pyplot as plt\n",
    "import numpy as np\n",
    "import scipy.sparse as sp\n",
    "from collections import defaultdict\n",
    "import torch.nn.init as init\n",
    "from dgl.nn.functional import edge_softmax"
   ]
  },
  {
   "cell_type": "code",
   "execution_count": 2,
   "id": "4c70a4cb",
   "metadata": {},
   "outputs": [],
   "source": [
    "data = pd.read_csv('../NF-CSE-CIC-IDS2018.csv')"
   ]
  },
  {
   "cell_type": "code",
   "execution_count": 3,
   "id": "e4d8501b",
   "metadata": {},
   "outputs": [],
   "source": [
    "data = data.groupby(by='Attack').sample(frac=0.1, random_state=13)"
   ]
  },
  {
   "cell_type": "code",
   "execution_count": 4,
   "id": "1afb1dd3",
   "metadata": {},
   "outputs": [],
   "source": [
    "data['IPV4_DST_ADDR'] = data.IPV4_DST_ADDR.apply(lambda x: socket.inet_ntoa(struct.pack('>I', random.randint(0xac100001, 0xac1f0001))))\n",
    "data['IPV4_SRC_ADDR'] = data.IPV4_SRC_ADDR.apply(str)\n",
    "data['L4_SRC_PORT'] = data.L4_SRC_PORT.apply(str)\n",
    "data['IPV4_DST_ADDR'] = data.IPV4_DST_ADDR.apply(str)\n",
    "data['L4_DST_PORT'] = data.L4_DST_PORT.apply(str)\n",
    "# data['IPV4_SRC_ADDR'] = data['IPV4_SRC_ADDR'] + ':' + data['L4_SRC_PORT']\n",
    "# data['IPV4_DST_ADDR'] = data['IPV4_DST_ADDR'] + ':' + data['L4_DST_PORT']\n",
    "data.drop(columns=['L4_SRC_PORT','L4_DST_PORT'],inplace=True)\n",
    "#data"
   ]
  },
  {
   "cell_type": "code",
   "execution_count": 5,
   "id": "48d126ee",
   "metadata": {},
   "outputs": [
    {
     "data": {
      "text/plain": [
       "15"
      ]
     },
     "execution_count": 5,
     "metadata": {},
     "output_type": "execute_result"
    }
   ],
   "source": [
    "len(data.Attack.value_counts())"
   ]
  },
  {
   "cell_type": "code",
   "execution_count": 6,
   "id": "ff8c0b45",
   "metadata": {},
   "outputs": [
    {
     "data": {
      "text/plain": [
       "array(['Benign', 'Bot', 'Brute Force -Web', 'Brute Force -XSS',\n",
       "       'DDOS attack-HOIC', 'DDOS attack-LOIC-UDP',\n",
       "       'DDoS attacks-LOIC-HTTP', 'DoS attacks-GoldenEye',\n",
       "       'DoS attacks-Hulk', 'DoS attacks-SlowHTTPTest',\n",
       "       'DoS attacks-Slowloris', 'FTP-BruteForce', 'Infilteration',\n",
       "       'SQL Injection', 'SSH-Bruteforce'], dtype=object)"
      ]
     },
     "execution_count": 6,
     "metadata": {},
     "output_type": "execute_result"
    }
   ],
   "source": [
    "data.Attack.unique()"
   ]
  },
  {
   "cell_type": "code",
   "execution_count": 7,
   "id": "b7c8e92e",
   "metadata": {},
   "outputs": [],
   "source": [
    "#data = data.groupby(by='Attack').sample(frac=0.15, random_state=13)"
   ]
  },
  {
   "cell_type": "code",
   "execution_count": 8,
   "id": "6eb3438b",
   "metadata": {},
   "outputs": [],
   "source": [
    "# b = []\n",
    "# for i in range(len(data)):\n",
    "#     if data['Attack'][i] in ['DDoS attacks-LOIC-HTTP', 'DDOS attack-LOIC-UDP', 'DDOS attack-HOIC']:\n",
    "#         b.append(i)"
   ]
  },
  {
   "cell_type": "code",
   "execution_count": 9,
   "id": "93c56a76",
   "metadata": {},
   "outputs": [],
   "source": [
    "# c = []\n",
    "# for i in range(len(data)):\n",
    "#     if data['Attack'][i] in ['DoS attacks-Hulk', 'DoS attacks-SlowHTTPTest', 'DoS attacks-GoldenEye','DoS attacks-Slowloris']:\n",
    "#         c.append(i)"
   ]
  },
  {
   "cell_type": "code",
   "execution_count": 10,
   "id": "36b8ff59",
   "metadata": {},
   "outputs": [],
   "source": [
    "# d = []\n",
    "# for i in range(len(data)):\n",
    "#     if data['Attack'][i] in ['FTP-BruteForce', 'SSH-Bruteforce']:\n",
    "#         d.append(i)"
   ]
  },
  {
   "cell_type": "code",
   "execution_count": 11,
   "id": "d54148b7",
   "metadata": {},
   "outputs": [
    {
     "data": {
      "text/plain": [
       "\"a = []\\nfor i in range(len(data)):\\n    if data['Attack'][i] in ['SQL Injection', 'Brute Force -Web', 'Brute Force -XSS','DDOS attack-HOIC','DDOS attack-LOIC-UDP']:\\n        a.append(i)\\n    \""
      ]
     },
     "execution_count": 11,
     "metadata": {},
     "output_type": "execute_result"
    }
   ],
   "source": [
    "'''a = []\n",
    "for i in range(len(data)):\n",
    "    if data['Attack'][i] in ['SQL Injection', 'Brute Force -Web', 'Brute Force -XSS','DDOS attack-HOIC','DDOS attack-LOIC-UDP']:\n",
    "        a.append(i)\n",
    "    '''"
   ]
  },
  {
   "cell_type": "code",
   "execution_count": 12,
   "id": "0f1b8bcc",
   "metadata": {},
   "outputs": [],
   "source": [
    "# data.loc[b, 'Attack'] = 'DDoS'\n",
    "# data.loc[c, 'Attack'] = 'DoS'\n",
    "# data.loc[d, 'Attack'] = 'BruteForce\n",
    "#data.drop(index=a, axis=1, inplace=True)"
   ]
  },
  {
   "cell_type": "code",
   "execution_count": 13,
   "id": "8ca76855",
   "metadata": {},
   "outputs": [
    {
     "data": {
      "text/html": [
       "<div>\n",
       "<style scoped>\n",
       "    .dataframe tbody tr th:only-of-type {\n",
       "        vertical-align: middle;\n",
       "    }\n",
       "\n",
       "    .dataframe tbody tr th {\n",
       "        vertical-align: top;\n",
       "    }\n",
       "\n",
       "    .dataframe thead th {\n",
       "        text-align: right;\n",
       "    }\n",
       "</style>\n",
       "<table border=\"1\" class=\"dataframe\">\n",
       "  <thead>\n",
       "    <tr style=\"text-align: right;\">\n",
       "      <th></th>\n",
       "      <th>IPV4_SRC_ADDR</th>\n",
       "      <th>IPV4_DST_ADDR</th>\n",
       "      <th>PROTOCOL</th>\n",
       "      <th>L7_PROTO</th>\n",
       "      <th>IN_BYTES</th>\n",
       "      <th>OUT_BYTES</th>\n",
       "      <th>IN_PKTS</th>\n",
       "      <th>OUT_PKTS</th>\n",
       "      <th>TCP_FLAGS</th>\n",
       "      <th>FLOW_DURATION_MILLISECONDS</th>\n",
       "      <th>label</th>\n",
       "    </tr>\n",
       "  </thead>\n",
       "  <tbody>\n",
       "    <tr>\n",
       "      <th>4651367</th>\n",
       "      <td>172.31.64.42</td>\n",
       "      <td>172.25.145.142</td>\n",
       "      <td>17</td>\n",
       "      <td>5.126</td>\n",
       "      <td>72</td>\n",
       "      <td>100</td>\n",
       "      <td>1</td>\n",
       "      <td>1</td>\n",
       "      <td>0</td>\n",
       "      <td>4294966</td>\n",
       "      <td>0</td>\n",
       "    </tr>\n",
       "    <tr>\n",
       "      <th>2244262</th>\n",
       "      <td>172.31.68.19</td>\n",
       "      <td>172.21.142.174</td>\n",
       "      <td>17</td>\n",
       "      <td>0.000</td>\n",
       "      <td>64</td>\n",
       "      <td>80</td>\n",
       "      <td>1</td>\n",
       "      <td>1</td>\n",
       "      <td>0</td>\n",
       "      <td>4294967</td>\n",
       "      <td>0</td>\n",
       "    </tr>\n",
       "    <tr>\n",
       "      <th>4036695</th>\n",
       "      <td>172.31.66.94</td>\n",
       "      <td>172.28.197.110</td>\n",
       "      <td>17</td>\n",
       "      <td>5.119</td>\n",
       "      <td>62</td>\n",
       "      <td>107</td>\n",
       "      <td>1</td>\n",
       "      <td>1</td>\n",
       "      <td>0</td>\n",
       "      <td>4294965</td>\n",
       "      <td>0</td>\n",
       "    </tr>\n",
       "    <tr>\n",
       "      <th>4268024</th>\n",
       "      <td>172.31.67.41</td>\n",
       "      <td>172.24.140.224</td>\n",
       "      <td>17</td>\n",
       "      <td>0.000</td>\n",
       "      <td>65</td>\n",
       "      <td>81</td>\n",
       "      <td>1</td>\n",
       "      <td>1</td>\n",
       "      <td>0</td>\n",
       "      <td>4294966</td>\n",
       "      <td>0</td>\n",
       "    </tr>\n",
       "    <tr>\n",
       "      <th>741963</th>\n",
       "      <td>172.31.65.39</td>\n",
       "      <td>172.27.201.84</td>\n",
       "      <td>6</td>\n",
       "      <td>91.126</td>\n",
       "      <td>914</td>\n",
       "      <td>4882</td>\n",
       "      <td>10</td>\n",
       "      <td>9</td>\n",
       "      <td>218</td>\n",
       "      <td>4294457</td>\n",
       "      <td>0</td>\n",
       "    </tr>\n",
       "    <tr>\n",
       "      <th>...</th>\n",
       "      <td>...</td>\n",
       "      <td>...</td>\n",
       "      <td>...</td>\n",
       "      <td>...</td>\n",
       "      <td>...</td>\n",
       "      <td>...</td>\n",
       "      <td>...</td>\n",
       "      <td>...</td>\n",
       "      <td>...</td>\n",
       "      <td>...</td>\n",
       "      <td>...</td>\n",
       "    </tr>\n",
       "    <tr>\n",
       "      <th>8271095</th>\n",
       "      <td>13.58.98.64</td>\n",
       "      <td>172.29.176.219</td>\n",
       "      <td>6</td>\n",
       "      <td>0.000</td>\n",
       "      <td>3012</td>\n",
       "      <td>0</td>\n",
       "      <td>21</td>\n",
       "      <td>0</td>\n",
       "      <td>27</td>\n",
       "      <td>0</td>\n",
       "      <td>14</td>\n",
       "    </tr>\n",
       "    <tr>\n",
       "      <th>8257955</th>\n",
       "      <td>13.58.98.64</td>\n",
       "      <td>172.29.233.254</td>\n",
       "      <td>6</td>\n",
       "      <td>0.000</td>\n",
       "      <td>3220</td>\n",
       "      <td>0</td>\n",
       "      <td>25</td>\n",
       "      <td>0</td>\n",
       "      <td>27</td>\n",
       "      <td>0</td>\n",
       "      <td>14</td>\n",
       "    </tr>\n",
       "    <tr>\n",
       "      <th>8283161</th>\n",
       "      <td>13.58.98.64</td>\n",
       "      <td>172.22.230.9</td>\n",
       "      <td>6</td>\n",
       "      <td>0.000</td>\n",
       "      <td>3164</td>\n",
       "      <td>0</td>\n",
       "      <td>23</td>\n",
       "      <td>0</td>\n",
       "      <td>27</td>\n",
       "      <td>0</td>\n",
       "      <td>14</td>\n",
       "    </tr>\n",
       "    <tr>\n",
       "      <th>8255043</th>\n",
       "      <td>13.58.98.64</td>\n",
       "      <td>172.20.166.36</td>\n",
       "      <td>6</td>\n",
       "      <td>0.000</td>\n",
       "      <td>3212</td>\n",
       "      <td>0</td>\n",
       "      <td>23</td>\n",
       "      <td>0</td>\n",
       "      <td>27</td>\n",
       "      <td>0</td>\n",
       "      <td>14</td>\n",
       "    </tr>\n",
       "    <tr>\n",
       "      <th>8206914</th>\n",
       "      <td>13.58.98.64</td>\n",
       "      <td>172.30.172.185</td>\n",
       "      <td>6</td>\n",
       "      <td>0.000</td>\n",
       "      <td>3196</td>\n",
       "      <td>0</td>\n",
       "      <td>23</td>\n",
       "      <td>0</td>\n",
       "      <td>27</td>\n",
       "      <td>0</td>\n",
       "      <td>14</td>\n",
       "    </tr>\n",
       "  </tbody>\n",
       "</table>\n",
       "<p>839240 rows × 11 columns</p>\n",
       "</div>"
      ],
      "text/plain": [
       "        IPV4_SRC_ADDR   IPV4_DST_ADDR  PROTOCOL  L7_PROTO  IN_BYTES  \\\n",
       "4651367  172.31.64.42  172.25.145.142        17     5.126        72   \n",
       "2244262  172.31.68.19  172.21.142.174        17     0.000        64   \n",
       "4036695  172.31.66.94  172.28.197.110        17     5.119        62   \n",
       "4268024  172.31.67.41  172.24.140.224        17     0.000        65   \n",
       "741963   172.31.65.39   172.27.201.84         6    91.126       914   \n",
       "...               ...             ...       ...       ...       ...   \n",
       "8271095   13.58.98.64  172.29.176.219         6     0.000      3012   \n",
       "8257955   13.58.98.64  172.29.233.254         6     0.000      3220   \n",
       "8283161   13.58.98.64    172.22.230.9         6     0.000      3164   \n",
       "8255043   13.58.98.64   172.20.166.36         6     0.000      3212   \n",
       "8206914   13.58.98.64  172.30.172.185         6     0.000      3196   \n",
       "\n",
       "         OUT_BYTES  IN_PKTS  OUT_PKTS  TCP_FLAGS  FLOW_DURATION_MILLISECONDS  \\\n",
       "4651367        100        1         1          0                     4294966   \n",
       "2244262         80        1         1          0                     4294967   \n",
       "4036695        107        1         1          0                     4294965   \n",
       "4268024         81        1         1          0                     4294966   \n",
       "741963        4882       10         9        218                     4294457   \n",
       "...            ...      ...       ...        ...                         ...   \n",
       "8271095          0       21         0         27                           0   \n",
       "8257955          0       25         0         27                           0   \n",
       "8283161          0       23         0         27                           0   \n",
       "8255043          0       23         0         27                           0   \n",
       "8206914          0       23         0         27                           0   \n",
       "\n",
       "         label  \n",
       "4651367      0  \n",
       "2244262      0  \n",
       "4036695      0  \n",
       "4268024      0  \n",
       "741963       0  \n",
       "...        ...  \n",
       "8271095     14  \n",
       "8257955     14  \n",
       "8283161     14  \n",
       "8255043     14  \n",
       "8206914     14  \n",
       "\n",
       "[839240 rows x 11 columns]"
      ]
     },
     "execution_count": 13,
     "metadata": {},
     "output_type": "execute_result"
    }
   ],
   "source": [
    "data.drop(columns=['Label'],inplace = True)\n",
    "data.rename(columns={\"Attack\": \"label\"},inplace = True)\n",
    "le = LabelEncoder()\n",
    "le.fit_transform(data.label.values)\n",
    "data['label'] = le.transform(data['label'])\n",
    "label = data.label\n",
    "data.drop(columns=['label'],inplace = True)\n",
    "scaler = StandardScaler()\n",
    "#scaler = MinMaxScaler()\n",
    "data =  pd.concat([data, label], axis=1)\n",
    "data"
   ]
  },
  {
   "cell_type": "code",
   "execution_count": 14,
   "id": "b42f2667",
   "metadata": {},
   "outputs": [],
   "source": [
    "X_train, X_test, y_train, y_test = train_test_split(\n",
    "    data,label, test_size=0.3, random_state=123,stratify= label)"
   ]
  },
  {
   "cell_type": "code",
   "execution_count": 15,
   "id": "cfe77e1c",
   "metadata": {},
   "outputs": [],
   "source": [
    "encoder = ce.TargetEncoder(cols=['TCP_FLAGS','L7_PROTO','PROTOCOL'])\n",
    "encoder.fit(X_train, y_train)\n",
    "X_train = encoder.transform(X_train)"
   ]
  },
  {
   "cell_type": "code",
   "execution_count": 16,
   "id": "0aeb270c",
   "metadata": {},
   "outputs": [],
   "source": [
    "cols_to_norm = list(set(list(X_train.iloc[:, 2:].columns ))  - set(list(['label'])) )\n",
    "X_train[cols_to_norm] = scaler.fit_transform(X_train[cols_to_norm])\n",
    "\n",
    "X_train['h'] = X_train[ cols_to_norm ].values.tolist()\n",
    "#X_train"
   ]
  },
  {
   "cell_type": "code",
   "execution_count": 17,
   "id": "b3f28099",
   "metadata": {},
   "outputs": [],
   "source": [
    "#X_train = X_train.sort_values(by=['IPV4_DST_ADDR'])\n",
    "#X_train = X_train.reset_index(drop=True)"
   ]
  },
  {
   "cell_type": "code",
   "execution_count": 18,
   "id": "64f0972c",
   "metadata": {},
   "outputs": [],
   "source": [
    "g_len = 55000\n",
    "g_num = math.ceil(len(X_train)/g_len)"
   ]
  },
  {
   "cell_type": "code",
   "execution_count": 19,
   "id": "b0f9e110",
   "metadata": {},
   "outputs": [
    {
     "data": {
      "text/plain": [
       "11"
      ]
     },
     "execution_count": 19,
     "metadata": {},
     "output_type": "execute_result"
    }
   ],
   "source": [
    "g_num"
   ]
  },
  {
   "cell_type": "code",
   "execution_count": 20,
   "id": "8848582a",
   "metadata": {},
   "outputs": [],
   "source": [
    "#seed = 39788\n",
    "learning_rate =  0.0001\n",
    "num = 10000\n",
    "k1 = 15\n",
    "tau = 5\n",
    "num_epochs =  300\n",
    "weight_decay = 0.00001"
   ]
  },
  {
   "cell_type": "code",
   "execution_count": null,
   "id": "d4fb1ef9",
   "metadata": {},
   "outputs": [],
   "source": []
  },
  {
   "cell_type": "code",
   "execution_count": 21,
   "id": "8ad1cf90",
   "metadata": {},
   "outputs": [],
   "source": [
    "class MLPPredictor(nn.Module):\n",
    "    def __init__(self, in_features, out_classes):\n",
    "        super().__init__()\n",
    "        self.W = nn.Linear(in_features * 2, out_classes)\n",
    "\n",
    "    def apply_edges(self, edges):\n",
    "        h_u = edges.src['h']\n",
    "        h_v = edges.dst['h']\n",
    "        score = self.W(th.cat([h_u, h_v], 1))\n",
    "        return {'score': score}\n",
    "\n",
    "    def forward(self, graph, h):\n",
    "        with graph.local_scope():\n",
    "            graph.ndata['h'] = h\n",
    "            graph.apply_edges(self.apply_edges)\n",
    "            return graph.edata['score']"
   ]
  },
  {
   "cell_type": "code",
   "execution_count": 22,
   "id": "b07908e5",
   "metadata": {},
   "outputs": [],
   "source": [
    "class GATlayer(nn.Module):\n",
    "    def __init__(self, n_feat, e_feat, out_feat, num_heads):\n",
    "        super(GATlayer,self).__init__()\n",
    "    \n",
    "        self.n_feat = n_feat\n",
    "        self.e_feat = e_feat\n",
    "        self.out_feat = out_feat\n",
    "        self.num_heads = num_heads\n",
    "        self.W_msg = nn.Linear(2 * n_feat + e_feat, out_feat)\n",
    "        self.W = nn.Linear(2 * n_feat + e_feat, 2 * out_feat)\n",
    " \n",
    "        self.a = nn.Parameter(torch.rand(size=(2 * out_feat  , 1)))\n",
    "        \n",
    "        self.reset_parameters()\n",
    "        \n",
    "    def reset_parameters(self):\n",
    "        \n",
    "        gain = math.sqrt(2)\n",
    "        init.xavier_normal_(self.W.weight, gain=gain)\n",
    "\n",
    "        init.xavier_normal_(self.a, gain=gain)\n",
    "    \n",
    "    def edge_attention(self, edges):        \n",
    "        \n",
    "        feat_cat = torch.cat([edges.src['h'], edges.dst['h'], edges.data['h']], dim=1)\n",
    "        \n",
    "        w_feat_cat = self.W(feat_cat)\n",
    "                \n",
    "        #e = F.leaky_relu(torch.matmul(w_feat_cat, self.a[i]))\n",
    "                              \n",
    "        return {'e': F.leaky_relu(torch.matmul(w_feat_cat, self.a))}\n",
    "        \n",
    "#     def message_func(self, edges):\n",
    "#         return {'h': self.W_msg(torch.cat([edges.src['h'], edges.dst['h'], edges.data['h']], dim=1)) , 'e': edges.data['e']}\n",
    "    \n",
    "    def message_func(self, edges):\n",
    "        return {'h': self.W_msg(torch.cat([edges.src['h'], edges.dst['h'], edges.data['h']], dim=1)) , 'x': edges.data['x']}\n",
    "  \n",
    "    \n",
    "    def reduce_func(self, nodes):\n",
    "        \n",
    "#         attention = F.softmax(nodes.mailbox['e'] ,dim = 1)\n",
    "#         h = (attention * nodes.mailbox['h']).sum(1)\n",
    "        h = (nodes.mailbox['x'] * nodes.mailbox['h']).sum(1)\n",
    "        return {'h': h}\n",
    "    \n",
    "    def forward(self, g, n_feat, e_feat):\n",
    "        with g.local_scope():\n",
    "            \n",
    "            g.ndata['h'] = n_feat\n",
    "            \n",
    "            g.edata['h'] = e_feat\n",
    "            g.apply_edges(self.edge_attention)\n",
    "            #attention = edge_softmax(g, edges.data['e'] ,norm_by='src')\n",
    "            attention = edge_softmax(g, g.edata['e'])\n",
    "            g.edata['x'] = attention\n",
    "            g.update_all(self.message_func, self.reduce_func)\n",
    "            g.ndata['h'] = F.relu(g.ndata['h'])\n",
    "            feat = g.ndata['h']\n",
    "                \n",
    "            return feat\n",
    "        \n",
    "class MultiHeadGATLayer(nn.Module):\n",
    "    def __init__(self, n_feat, e_feat, out_feat, num_heads):\n",
    "        super(MultiHeadGATLayer, self).__init__()\n",
    "        self.heads = nn.ModuleList()\n",
    "        for i in range(num_heads):\n",
    "            self.heads.append(GATlayer(n_feat, e_feat, out_feat, num_heads))\n",
    "        \n",
    "    def forward(self,g, h, e_feat):\n",
    "        \n",
    "        out_feat = [attn_head(g, h, e_feat) for attn_head in self.heads]\n",
    "    \n",
    "        out_feat = torch.cat(out_feat,dim = 1).reshape(g.num_nodes(),len(self.heads), -1)\n",
    "\n",
    "        return out_feat.mean(1)\n",
    "\n",
    "class GAT(nn.Module):\n",
    "    def __init__(self, in_dim, e_dim, out_dim, num_heads):\n",
    "        super(GAT, self).__init__()\n",
    "        self.layer1 = MultiHeadGATLayer( in_dim, e_dim, 8, num_heads)\n",
    "#         self.layer1 = MultiHeadGATLayer( in_dim, e_dim, 16, num_heads)\n",
    "#         self.layer2 = MultiHeadGATLayer( 16, e_dim, out_dim, 1)\n",
    "        \n",
    "    def forward(self, g, h, e_feat):\n",
    "        h = self.layer1(g, h, e_feat)\n",
    "#         h = F.dropout(h,p = 0.2)\n",
    "#         h = self.layer2(g, h, e_feat)\n",
    "        g.ndata['h'] = h\n",
    "        return h , g"
   ]
  },
  {
   "cell_type": "code",
   "execution_count": 23,
   "id": "811b30b7",
   "metadata": {},
   "outputs": [],
   "source": [
    "class Genetation(torch.nn.Module):\n",
    "    def __init__(self, in_feat, out_feat, num_heads, activation):\n",
    "        super(Genetation, self).__init__()\n",
    "        self.conv = GATConv(in_feat, out_feat, num_heads)\n",
    "        self.activation = activation\n",
    "\n",
    "        for m in self.modules():\n",
    "            self.weights_init(m)\n",
    "\n",
    "    def weights_init(self, m):\n",
    "        if isinstance(m, nn.Linear):\n",
    "            torch.nn.init.xavier_uniform_(m.weight.data)\n",
    "            if m.bias is not None:\n",
    "                m.bias.data.fill_(0.0)\n",
    "\n",
    "    def forward(self, g, feat):\n",
    "        x = self.activation(self.conv(g, feat))\n",
    "        #x = self.conv(g, feat)\n",
    "        g.ndata['h'] = x\n",
    "        return x.mean(1) ,g"
   ]
  },
  {
   "cell_type": "code",
   "execution_count": 24,
   "id": "b1bc6aac",
   "metadata": {},
   "outputs": [],
   "source": [
    "import random\n",
    "def sub_sam(nodes, adj_lists, k):\n",
    "    node_neighbor =  [ [] for i in range(nodes.shape[0])]\n",
    "    node_neighbor_cen =  [ [] for i in range(nodes.shape[0])]\n",
    "    node_centorr =  [[] for i in range(nodes.shape[0])]\n",
    "\n",
    "    num_nei = 0\n",
    "\n",
    "    for node in nodes:\n",
    "        neighbors = set([int(node)])\n",
    "        neighs = adj_lists[int(node)]\n",
    "        node_centorr[num_nei] = [int(node)]\n",
    "        current1 = adj_lists[int(node)]\n",
    "        if len(neighs) >= k:\n",
    "            neighs -= neighbors\n",
    "            current1 = random.sample(neighs, k-1)\n",
    "\n",
    "            node_neighbor[num_nei] = [neg_node for neg_node in current1]\n",
    "            current1.append(int(node))\n",
    "            node_neighbor_cen[num_nei] = [neg_node for neg_node in current1]\n",
    "            num_nei += 1\n",
    "\n",
    "        node_neighbor_cen[num_nei] = [neg_node for neg_node in current1]\n",
    "\n",
    "    node_neighbor_cen = [neighbors for neighbors in node_neighbor_cen if neighbors]\n",
    "    node_neighbor_cen  = node_neighbor_cen[:-1]\n",
    "    return node_neighbor_cen"
   ]
  },
  {
   "cell_type": "code",
   "execution_count": 25,
   "id": "2685ddda",
   "metadata": {},
   "outputs": [],
   "source": [
    "class Model(nn.Module):\n",
    "    def __init__(self,  Encoder, gene, tau = 0.5):\n",
    "        super(Model, self).__init__()\n",
    "        self.encoder = Encoder\n",
    "        self.tau: float = tau\n",
    "        self.ge = gene\n",
    "\n",
    "    def forward(self, graph, node_feats, edge_feats) :\n",
    "        z, g1 = self.encoder(graph,node_feats,edge_feats)\n",
    "        #z_g, g2 = self.ge(graph,z)\n",
    "        z_g, g2 = self.ge(graph,z,edge_feats)\n",
    "        return z, z_g, g1, g2\n",
    "    \n",
    "    def embed(self, graph, node_feats, edge_feats):\n",
    "        z,_ = self.encoder(graph, node_feats, edge_feats)\n",
    "        return z\n",
    "\n",
    "    def loss(self, z1, z2, adj, sub_g1, g1, g2):\n",
    "        loss = self.sub_loss_batch(z1, z2, adj, sub_g1, g1, g2)\n",
    "        return loss\n",
    "\n",
    "    def sub_loss_batch(self, z, z_g, adj, sub_g1, g1, g2):\n",
    "        subz_s, sub_gene_s = self.subg_centor(z, z_g, sub_g1)\n",
    "\n",
    "        num = th.randint(0, len(sub_g1)-1, [len(sub_g1),])\n",
    "        if num[0] == 0:\n",
    "            num[0] = 1\n",
    "        for i in range(1, len(num)):\n",
    "            if num[i] == i:\n",
    "                num[i] -= 1\n",
    "        subg2_s_n = subz_s[num] # disrupt\n",
    "        sub_gene_s_n = sub_gene_s[num]\n",
    "        #print('sub_gene_s',sub_gene_s.shape)\n",
    "        #print('sub_gene_s_n',sub_gene_s_n.shape)\n",
    "\n",
    "        input1 = th.cat((subz_s, subz_s, subz_s), dim=0)\n",
    "        input2 = th.cat((sub_gene_s, subg2_s_n, sub_gene_s_n), dim=0)\n",
    "        \n",
    "        edges1, edges2 = self.edges_f(g1, g2, sub_g1, z, z_g)\n",
    "        #print('edges2',edges2.shape)\n",
    "        subg2_se = edges1[num]\n",
    "        sub_gene_s_e = edges2[num]\n",
    "        #print('sub_gene_s_e',sub_gene_s_e.shape)\n",
    "        input1_edges = th.cat((edges1, edges1, edges1), dim=0)\n",
    "        input2_edges = th.cat((edges2, subg2_se, sub_gene_s_e), dim=0)\n",
    "        input1_edges = input1_edges.requires_grad_(True)\n",
    "        input2_edges = input2_edges.requires_grad_(True)\n",
    "        \n",
    "        # adj\n",
    "        subg1_adj = self.sub_adj(adj, sub_g1)\n",
    "        input_adj = th.cat((subg1_adj, subg1_adj, subg1_adj), dim=0)\n",
    "        \n",
    "        lbl_1 = th.ones(len(sub_g1)).cuda()\n",
    "        lbl_2 = th.zeros(len(sub_g1)*2).cuda()\n",
    "        lbl = th.cat((lbl_1, lbl_2), 0).cuda()\n",
    "        \n",
    "        lbl_1_e = th.ones(len(edges2) ).cuda()\n",
    "        lbl_2_e = th.zeros(len(edges2)* 2).cuda()\n",
    "        lbl_e = th.cat((lbl_1_e, lbl_2_e), 0).cuda()\n",
    "        \n",
    "         # WD\n",
    "        wd, T_wd = self.wd(input1, input2, self.tau)\n",
    "        logits = th.exp(-wd / 0.01)\n",
    "        loss1 = b_xent(th.squeeze(logits), lbl)\n",
    "        #print('loss1', loss1)\n",
    "        \n",
    "        # GWD\n",
    "        gwd = self.gwd(input1.transpose(2,1), input2.transpose(2,1), T_wd, input_adj, self.tau)\n",
    "        logits2 = th.exp(-gwd / 0.1)\n",
    "        loss2 = b_xent(th.squeeze(logits2), lbl)\n",
    "        #print('loss2',loss2)\n",
    "        \n",
    "\n",
    "        wd, T_wd = self.wd(input1_edges, input2_edges, self.tau)\n",
    "        logits3 = th.exp(-wd / 0.01)\n",
    "        loss3 = b_xent(th.squeeze(logits3), lbl_e)\n",
    "        #print('loss3', loss3)\n",
    "\n",
    "\n",
    "        loss = 0.7 * loss3 + 0.3 * loss2\n",
    "        #loss = 0.6 * loss3 + 0.4 * loss1 \n",
    "        return loss\n",
    "    \n",
    "    def edges_f (self,g1,g2,sub_g1, z, z_g):\n",
    "        edge_feat_1 = [[] for i in range(len(sub_g1))]\n",
    "        edge_feat_2 = [[] for i in range(len(sub_g1))]\n",
    "        sc = MLPPredictor(g1.edata['h'].shape[1],8).cuda()\n",
    "        z_e = sc(g1, z)\n",
    "        z_ge = sc(g2, z_g)\n",
    "        for i in range(len(sub_g1)):\n",
    "            cen_node = sub_g1[i][-1]\n",
    "            dst = sub_g1[i][:-1]\n",
    "            src_node_id = cen_node\n",
    "\n",
    "            for j in dst:\n",
    "                dst_node_id = j\n",
    "\n",
    "                edge_indices = g1.edge_ids(src_node_id, dst_node_id,return_uv = True)\n",
    "\n",
    "                edge_feature_1 = torch.Tensor(z_e[edge_indices[2]]).float().tolist()\n",
    "                edge_feature_2 = torch.Tensor(z_ge[edge_indices[2]]).float().tolist()\n",
    "\n",
    "                edge_feat_1.append(edge_feature_1)\n",
    "                edge_feat_2.append(edge_feature_2)\n",
    "                if len(edge_feat_1[-1]) == 2:\n",
    "                    edge_feat_1[-1] = [edge_feat_1[-1][0]]\n",
    "                    edge_feat_2[-1] = [edge_feat_2[-1][0]]\n",
    "                \n",
    "        edge_feat_1 = [neighbors for neighbors in edge_feat_1 if neighbors]\n",
    "        edge_feat_2 = [neighbors for neighbors in edge_feat_2 if neighbors]\n",
    "        edge_feat_1 = torch.Tensor(edge_feat_1)\n",
    "#         print('edge_feat_1',edge_feat_1)\n",
    "        edge_feat_2 = torch.Tensor(edge_feat_2)\n",
    "        edge_feat_1 = edge_feat_1.reshape(len(sub_g1),-1, 8)\n",
    "        edge_feat_2 = edge_feat_2.reshape(len(sub_g1),-1, 8)\n",
    "        return edge_feat_1, edge_feat_2\n",
    "    \n",
    "    def sub_adj(self, adj, sub_g1):\n",
    "        subg1_adj = th.zeros(len(sub_g1), len(sub_g1[0]), len(sub_g1[0]))\n",
    "        for i in range(len(sub_g1)):\n",
    "            subg1_adj[i] = adj[sub_g1[i]].t()[sub_g1[i]]\n",
    "        return subg1_adj\n",
    "\n",
    "\n",
    "    def subg_centor(self, z, z_g, sub_g1):\n",
    "        sub = [element for lis in sub_g1 for element in lis]\n",
    "        subz = z[sub] \n",
    "        subg = z_g[sub]\n",
    "\n",
    "        sub_s = subz.reshape(len(sub_g1), len(sub_g1[0]), -1)\n",
    "        subg_s = subg.reshape(len(sub_g1), len(sub_g1[0]), -1)\n",
    "        return sub_s, subg_s\n",
    "\n",
    "    # WD\n",
    "    def wd(self, x, y, tau):\n",
    "        cos_distance = self.cost_matrix_batch(th.transpose(x, 2, 1), th.transpose(y, 2, 1), tau)\n",
    "        cos_distance = cos_distance.transpose(1,2)\n",
    "\n",
    "        beta = 0.1\n",
    "        min_score = cos_distance.min()\n",
    "        max_score = cos_distance.max()\n",
    "        threshold = min_score + beta * (max_score - min_score)\n",
    "        cos_dist = nn.functional.relu(cos_distance - threshold)\n",
    "        \n",
    "        wd, T_wd = self.OT_distance_batch(cos_dist, x.size(0), x.size(1), y.size(1), 40)\n",
    "        return wd, T_wd\n",
    "\n",
    "    def OT_distance_batch(self, C, bs, n, m, iteration=50):\n",
    "        C = C.float().cuda()\n",
    "        T = self.OT_batch(C, bs, n, m, iteration=iteration)\n",
    "        temp = th.bmm(th.transpose(C,1,2), T)\n",
    "        distance = self.batch_trace(temp, m, bs)\n",
    "        return distance, T\n",
    "    \n",
    "    def OT_batch(self, C, bs, n, m, beta=0.5, iteration=50):\n",
    "        sigma = th.ones(bs, int(m), 1).cuda()/float(m)\n",
    "        T = th.ones(bs, n, m).cuda()\n",
    "        A = th.exp(-C/beta).float().cuda()\n",
    "        for t in range(iteration):\n",
    "            Q = A * T\n",
    "            for k in range(1):\n",
    "                delta = 1 / (n * th.bmm(Q, sigma))\n",
    "                a = th.bmm(th.transpose(Q,1,2), delta)\n",
    "                sigma = 1 / (float(m) * a)\n",
    "            T = delta * Q * sigma.transpose(2,1)\n",
    "        return T\n",
    "\n",
    "    def cost_matrix_batch(self, x, y, tau=0.5):\n",
    "        bs = list(x.size())[0]\n",
    "        D = x.size(1)\n",
    "        assert(x.size(1)==y.size(1))\n",
    "        x = x.contiguous().view(bs, D, -1)\n",
    "        x = x.div(th.norm(x, p=2, dim=1, keepdim=True) + 1e-12)\n",
    "        y = y.div(th.norm(y, p=2, dim=1, keepdim=True) + 1e-12)\n",
    "        \n",
    "        cos_dis = th.bmm(th.transpose(x, 1, 2), y)\n",
    "        cos_dis = th.exp(- cos_dis / tau)\n",
    "        return cos_dis.transpose(2,1)\n",
    "\n",
    "    def batch_trace(self, input_matrix, n, bs):\n",
    "        a = th.eye(n).cuda().unsqueeze(0).repeat(bs, 1, 1)\n",
    "        b = a * input_matrix\n",
    "        return th.sum(th.sum(b,-1),-1).unsqueeze(1)\n",
    "    \n",
    "    \n",
    "    # GWD\n",
    "    def gwd(self, X, Y, T_wd, input_adj, tau, lamda=1e-1, iteration=5, OT_iteration=20):\n",
    "        m = X.size(2)\n",
    "        n = Y.size(2)\n",
    "        bs = X.size(0)\n",
    "        p = (th.ones(bs, m, 1)/m).cuda()\n",
    "        q = (th.ones(bs, n, 1)/n).cuda()\n",
    "        return self.GW_distance(X, Y, p, q, T_wd, input_adj, tau, lamda=lamda, iteration=iteration, OT_iteration=OT_iteration)\n",
    "\n",
    "    def GW_distance(self, X, Y, p, q, T_wd, input_adj, tau, lamda=0.5, iteration=5, OT_iteration=20):\n",
    "        cos_dis = th.exp(- input_adj / tau).cuda() \n",
    "        beta = 0.1\n",
    "        min_score = cos_dis.min()\n",
    "        max_score = cos_dis.max()\n",
    "        threshold = min_score + beta * (max_score - min_score)\n",
    "        res = cos_dis - threshold\n",
    "        Cs = nn.functional.relu(res.transpose(2,1))\n",
    "\n",
    "        Ct = self.cos_batch(Y, Y, tau).float().cuda()\n",
    "        bs = Cs.size(0)\n",
    "        m = Ct.size(2)\n",
    "        n = Cs.size(2)\n",
    "        T, Cst = self.GW_batch(Cs, Ct, bs, n, m, p, q, beta=lamda, iteration=iteration, OT_iteration=OT_iteration)\n",
    "        temp = th.bmm(th.transpose(Cst,1,2), T_wd)\n",
    "        distance = self.batch_trace(temp, m, bs)\n",
    "        return distance\n",
    "\n",
    "    def GW_batch(self, Cs, Ct, bs, n, m, p, q, beta=0.5, iteration=5, OT_iteration=20):\n",
    "        one_m = th.ones(bs, m, 1).float().cuda()\n",
    "        one_n = th.ones(bs, n, 1).float().cuda()\n",
    "\n",
    "        Cst = th.bmm(th.bmm(Cs**2, p), th.transpose(one_m, 1, 2)) + \\\n",
    "            th.bmm(one_n, th.bmm(th.transpose(q,1,2), th.transpose(Ct**2, 1, 2)))\n",
    "        gamma = th.bmm(p, q.transpose(2,1))\n",
    "        for i in range(iteration):\n",
    "            C_gamma = Cst - 2 * th.bmm(th.bmm(Cs, gamma), th.transpose(Ct, 1, 2))\n",
    "            gamma = self.OT_batch(C_gamma, bs, n, m, beta=beta, iteration=OT_iteration)\n",
    "        Cgamma = Cst - 2 * th.bmm(th.bmm(Cs, gamma), th.transpose(Ct, 1, 2))\n",
    "        return gamma.detach(), Cgamma\n",
    "\n",
    "    def cos_batch(self, x, y, tau):\n",
    "        bs = x.size(0)\n",
    "        D = x.size(1)\n",
    "        assert(x.size(1)==y.size(1))\n",
    "        x = x.contiguous().view(bs, D, -1)\n",
    "        x = x.div(th.norm(x, p=2, dim=1, keepdim=True) + 1e-12)\n",
    "        y = y.div(th.norm(y, p=2, dim=1, keepdim=True) + 1e-12)\n",
    "        cos_dis = th.bmm(th.transpose(x,1,2), y)\n",
    "        cos_dis = th.exp(- cos_dis / tau).transpose(1,2)\n",
    "        \n",
    "        beta = 0.1\n",
    "        min_score = cos_dis.min()\n",
    "        max_score = cos_dis.max()\n",
    "        threshold = min_score + beta * (max_score - min_score)\n",
    "        res = cos_dis - threshold\n",
    "        return nn.functional.relu(res.transpose(2,1))"
   ]
  },
  {
   "cell_type": "code",
   "execution_count": 26,
   "id": "899e1b07",
   "metadata": {},
   "outputs": [],
   "source": [
    "def train(model, g,node_feats,edge_feats, adj, node_neighbor_cen):\n",
    "    model.train()\n",
    "    optimizer.zero_grad()\n",
    "\n",
    "    z1, z2, g1, g2 = model(g, node_feats, edge_feats)\n",
    "    loss = model.loss(z1, z2, adj, node_neighbor_cen, g1, g2)\n",
    "    #loss.requires_grad_(True)\n",
    "    loss.backward(retain_graph=True)\n",
    "    optimizer.step()\n",
    "\n",
    "    return loss.item()"
   ]
  },
  {
   "cell_type": "code",
   "execution_count": 27,
   "id": "d0ca8419",
   "metadata": {},
   "outputs": [
    {
     "name": "stdout",
     "output_type": "stream",
     "text": [
      "CPU times: user 22.4 s, sys: 532 ms, total: 22.9 s\n",
      "Wall time: 22.9 s\n"
     ]
    }
   ],
   "source": [
    "%%time\n",
    "graph = []\n",
    "for i in range(g_num):\n",
    "    G = X_train[ i*g_len: (i+1)* g_len ]\n",
    "    G = nx.from_pandas_edgelist(G, \"IPV4_SRC_ADDR\", \"IPV4_DST_ADDR\", ['h','label'],create_using=nx.MultiGraph())\n",
    "    G = G.to_directed()\n",
    "    G = from_networkx(G,edge_attrs=['h','label'] )\n",
    "    graph.append(G)"
   ]
  },
  {
   "cell_type": "code",
   "execution_count": 28,
   "id": "96c42536",
   "metadata": {},
   "outputs": [],
   "source": [
    "#plt.rcParams[\"figure.figsize\"] = (50,50)\n",
    "#nx.draw(graph[0],node_size=10)"
   ]
  },
  {
   "cell_type": "code",
   "execution_count": 29,
   "id": "11372aa2",
   "metadata": {
    "scrolled": true
   },
   "outputs": [
    {
     "data": {
      "text/plain": [
       "(11,\n",
       " [Graph(num_nodes=57447, num_edges=110000,\n",
       "        ndata_schemes={}\n",
       "        edata_schemes={'h': Scheme(shape=(8,), dtype=torch.float32), 'label': Scheme(shape=(), dtype=torch.int64)}),\n",
       "  Graph(num_nodes=57224, num_edges=110000,\n",
       "        ndata_schemes={}\n",
       "        edata_schemes={'h': Scheme(shape=(8,), dtype=torch.float32), 'label': Scheme(shape=(), dtype=torch.int64)}),\n",
       "  Graph(num_nodes=57428, num_edges=110000,\n",
       "        ndata_schemes={}\n",
       "        edata_schemes={'h': Scheme(shape=(8,), dtype=torch.float32), 'label': Scheme(shape=(), dtype=torch.int64)}),\n",
       "  Graph(num_nodes=57308, num_edges=110000,\n",
       "        ndata_schemes={}\n",
       "        edata_schemes={'h': Scheme(shape=(8,), dtype=torch.float32), 'label': Scheme(shape=(), dtype=torch.int64)}),\n",
       "  Graph(num_nodes=57229, num_edges=110000,\n",
       "        ndata_schemes={}\n",
       "        edata_schemes={'h': Scheme(shape=(8,), dtype=torch.float32), 'label': Scheme(shape=(), dtype=torch.int64)}),\n",
       "  Graph(num_nodes=57303, num_edges=110000,\n",
       "        ndata_schemes={}\n",
       "        edata_schemes={'h': Scheme(shape=(8,), dtype=torch.float32), 'label': Scheme(shape=(), dtype=torch.int64)}),\n",
       "  Graph(num_nodes=57210, num_edges=110000,\n",
       "        ndata_schemes={}\n",
       "        edata_schemes={'h': Scheme(shape=(8,), dtype=torch.float32), 'label': Scheme(shape=(), dtype=torch.int64)}),\n",
       "  Graph(num_nodes=57304, num_edges=110000,\n",
       "        ndata_schemes={}\n",
       "        edata_schemes={'h': Scheme(shape=(8,), dtype=torch.float32), 'label': Scheme(shape=(), dtype=torch.int64)}),\n",
       "  Graph(num_nodes=57335, num_edges=110000,\n",
       "        ndata_schemes={}\n",
       "        edata_schemes={'h': Scheme(shape=(8,), dtype=torch.float32), 'label': Scheme(shape=(), dtype=torch.int64)}),\n",
       "  Graph(num_nodes=57309, num_edges=110000,\n",
       "        ndata_schemes={}\n",
       "        edata_schemes={'h': Scheme(shape=(8,), dtype=torch.float32), 'label': Scheme(shape=(), dtype=torch.int64)}),\n",
       "  Graph(num_nodes=39714, num_edges=74936,\n",
       "        ndata_schemes={}\n",
       "        edata_schemes={'h': Scheme(shape=(8,), dtype=torch.float32), 'label': Scheme(shape=(), dtype=torch.int64)})],\n",
       " 11)"
      ]
     },
     "execution_count": 29,
     "metadata": {},
     "output_type": "execute_result"
    }
   ],
   "source": [
    "len(graph),graph,len(graph)"
   ]
  },
  {
   "cell_type": "code",
   "execution_count": 30,
   "id": "3d4395aa",
   "metadata": {},
   "outputs": [
    {
     "data": {
      "text/plain": [
       "39714"
      ]
     },
     "execution_count": 30,
     "metadata": {},
     "output_type": "execute_result"
    }
   ],
   "source": [
    "graph[-1].num_nodes()"
   ]
  },
  {
   "cell_type": "code",
   "execution_count": 31,
   "id": "2f8d04b6",
   "metadata": {},
   "outputs": [],
   "source": [
    "if graph[-1].num_nodes() < num :\n",
    "    graph = graph[:-1]"
   ]
  },
  {
   "cell_type": "code",
   "execution_count": 32,
   "id": "aef6ef09",
   "metadata": {},
   "outputs": [
    {
     "data": {
      "text/plain": [
       "11"
      ]
     },
     "execution_count": 32,
     "metadata": {},
     "output_type": "execute_result"
    }
   ],
   "source": [
    "len(graph)"
   ]
  },
  {
   "cell_type": "code",
   "execution_count": 33,
   "id": "8370dc76",
   "metadata": {},
   "outputs": [],
   "source": [
    "n_dim = G.edata['h'].shape[1]\n",
    "e_dim = G.edata['h'].shape[1]\n",
    "out_dim = G.edata['h'].shape[1]\n",
    "num_heads = 3\n",
    "num_hidden = G.edata['h'].shape[1]\n",
    "activation = F.relu"
   ]
  },
  {
   "cell_type": "code",
   "execution_count": 34,
   "id": "0456fb59",
   "metadata": {},
   "outputs": [],
   "source": [
    "Encoder =  GAT(n_dim, e_dim, out_dim , num_heads).cuda()\n",
    "#gene = Genetation(num_hidden, num_hidden, num_heads = 3, activation = F.relu)\n",
    "gene = GAT(n_dim, e_dim, out_dim , num_heads)\n",
    "model = Model(Encoder, gene).cuda()\n",
    "#optimizer = th.optim.Adam(model.parameters(), lr=learning_rate , weight_decay=weight_decay)\n",
    "optimizer = th.optim.Adam(model.parameters())"
   ]
  },
  {
   "cell_type": "code",
   "execution_count": 35,
   "id": "f3811be5",
   "metadata": {},
   "outputs": [],
   "source": [
    "b_xent = nn.BCEWithLogitsLoss()\n",
    "node_neighbor = {}\n",
    "best = 1e9\n",
    "best_t = 0\n",
    "bestacc = 0"
   ]
  },
  {
   "cell_type": "code",
   "execution_count": 36,
   "id": "d9a76c5d",
   "metadata": {},
   "outputs": [],
   "source": [
    "#a1,a2 = g1.edges()"
   ]
  },
  {
   "cell_type": "code",
   "execution_count": 37,
   "id": "44db5971",
   "metadata": {
    "scrolled": true
   },
   "outputs": [
    {
     "name": "stderr",
     "output_type": "stream",
     "text": [
      "/tmp/ipykernel_1582191/429784891.py:16: DeprecationWarning: Sampling from a set deprecated\n",
      "since Python 3.9 and will be removed in a subsequent version.\n",
      "  current1 = random.sample(neighs, k-1)\n"
     ]
    },
    {
     "name": "stdout",
     "output_type": "stream",
     "text": [
      "#################################\n",
      "0\n",
      "#################################\n",
      "1\n",
      "#################################\n",
      "2\n",
      "#################################\n",
      "3\n",
      "#################################\n",
      "4\n",
      "#################################\n",
      "5\n",
      "#################################\n",
      "6\n",
      "#################################\n",
      "7\n"
     ]
    },
    {
     "ename": "ValueError",
     "evalue": "expected sequence of length 1 at dim 1 (got 3)",
     "output_type": "error",
     "traceback": [
      "\u001b[0;31m---------------------------------------------------------------------------\u001b[0m",
      "\u001b[0;31mValueError\u001b[0m                                Traceback (most recent call last)",
      "File \u001b[0;32m<timed exec>:22\u001b[0m\n",
      "Cell \u001b[0;32mIn[26], line 6\u001b[0m, in \u001b[0;36mtrain\u001b[0;34m(model, g, node_feats, edge_feats, adj, node_neighbor_cen)\u001b[0m\n\u001b[1;32m      3\u001b[0m optimizer\u001b[38;5;241m.\u001b[39mzero_grad()\n\u001b[1;32m      5\u001b[0m z1, z2, g1, g2 \u001b[38;5;241m=\u001b[39m model(g, node_feats, edge_feats)\n\u001b[0;32m----> 6\u001b[0m loss \u001b[38;5;241m=\u001b[39m \u001b[43mmodel\u001b[49m\u001b[38;5;241;43m.\u001b[39;49m\u001b[43mloss\u001b[49m\u001b[43m(\u001b[49m\u001b[43mz1\u001b[49m\u001b[43m,\u001b[49m\u001b[43m \u001b[49m\u001b[43mz2\u001b[49m\u001b[43m,\u001b[49m\u001b[43m \u001b[49m\u001b[43madj\u001b[49m\u001b[43m,\u001b[49m\u001b[43m \u001b[49m\u001b[43mnode_neighbor_cen\u001b[49m\u001b[43m,\u001b[49m\u001b[43m \u001b[49m\u001b[43mg1\u001b[49m\u001b[43m,\u001b[49m\u001b[43m \u001b[49m\u001b[43mg2\u001b[49m\u001b[43m)\u001b[49m\n\u001b[1;32m      7\u001b[0m \u001b[38;5;66;03m#loss.requires_grad_(True)\u001b[39;00m\n\u001b[1;32m      8\u001b[0m loss\u001b[38;5;241m.\u001b[39mbackward(retain_graph\u001b[38;5;241m=\u001b[39m\u001b[38;5;28;01mTrue\u001b[39;00m)\n",
      "Cell \u001b[0;32mIn[25], line 19\u001b[0m, in \u001b[0;36mModel.loss\u001b[0;34m(self, z1, z2, adj, sub_g1, g1, g2)\u001b[0m\n\u001b[1;32m     18\u001b[0m \u001b[38;5;28;01mdef\u001b[39;00m \u001b[38;5;21mloss\u001b[39m(\u001b[38;5;28mself\u001b[39m, z1, z2, adj, sub_g1, g1, g2):\n\u001b[0;32m---> 19\u001b[0m     loss \u001b[38;5;241m=\u001b[39m \u001b[38;5;28;43mself\u001b[39;49m\u001b[38;5;241;43m.\u001b[39;49m\u001b[43msub_loss_batch\u001b[49m\u001b[43m(\u001b[49m\u001b[43mz1\u001b[49m\u001b[43m,\u001b[49m\u001b[43m \u001b[49m\u001b[43mz2\u001b[49m\u001b[43m,\u001b[49m\u001b[43m \u001b[49m\u001b[43madj\u001b[49m\u001b[43m,\u001b[49m\u001b[43m \u001b[49m\u001b[43msub_g1\u001b[49m\u001b[43m,\u001b[49m\u001b[43m \u001b[49m\u001b[43mg1\u001b[49m\u001b[43m,\u001b[49m\u001b[43m \u001b[49m\u001b[43mg2\u001b[49m\u001b[43m)\u001b[49m\n\u001b[1;32m     20\u001b[0m     \u001b[38;5;28;01mreturn\u001b[39;00m loss\n",
      "Cell \u001b[0;32mIn[25], line 39\u001b[0m, in \u001b[0;36mModel.sub_loss_batch\u001b[0;34m(self, z, z_g, adj, sub_g1, g1, g2)\u001b[0m\n\u001b[1;32m     36\u001b[0m input1 \u001b[38;5;241m=\u001b[39m th\u001b[38;5;241m.\u001b[39mcat((subz_s, subz_s, subz_s), dim\u001b[38;5;241m=\u001b[39m\u001b[38;5;241m0\u001b[39m)\n\u001b[1;32m     37\u001b[0m input2 \u001b[38;5;241m=\u001b[39m th\u001b[38;5;241m.\u001b[39mcat((sub_gene_s, subg2_s_n, sub_gene_s_n), dim\u001b[38;5;241m=\u001b[39m\u001b[38;5;241m0\u001b[39m)\n\u001b[0;32m---> 39\u001b[0m edges1, edges2 \u001b[38;5;241m=\u001b[39m \u001b[38;5;28;43mself\u001b[39;49m\u001b[38;5;241;43m.\u001b[39;49m\u001b[43medges_f\u001b[49m\u001b[43m(\u001b[49m\u001b[43mg1\u001b[49m\u001b[43m,\u001b[49m\u001b[43m \u001b[49m\u001b[43mg2\u001b[49m\u001b[43m,\u001b[49m\u001b[43m \u001b[49m\u001b[43msub_g1\u001b[49m\u001b[43m,\u001b[49m\u001b[43m \u001b[49m\u001b[43mz\u001b[49m\u001b[43m,\u001b[49m\u001b[43m \u001b[49m\u001b[43mz_g\u001b[49m\u001b[43m)\u001b[49m\n\u001b[1;32m     40\u001b[0m \u001b[38;5;66;03m#print('edges2',edges2.shape)\u001b[39;00m\n\u001b[1;32m     41\u001b[0m subg2_se \u001b[38;5;241m=\u001b[39m edges1[num]\n",
      "Cell \u001b[0;32mIn[25], line 111\u001b[0m, in \u001b[0;36mModel.edges_f\u001b[0;34m(self, g1, g2, sub_g1, z, z_g)\u001b[0m\n\u001b[1;32m    109\u001b[0m         edge_feat_1 \u001b[38;5;241m=\u001b[39m [neighbors \u001b[38;5;28;01mfor\u001b[39;00m neighbors \u001b[38;5;129;01min\u001b[39;00m edge_feat_1 \u001b[38;5;28;01mif\u001b[39;00m neighbors]\n\u001b[1;32m    110\u001b[0m         edge_feat_2 \u001b[38;5;241m=\u001b[39m [neighbors \u001b[38;5;28;01mfor\u001b[39;00m neighbors \u001b[38;5;129;01min\u001b[39;00m edge_feat_2 \u001b[38;5;28;01mif\u001b[39;00m neighbors]\n\u001b[0;32m--> 111\u001b[0m         edge_feat_1 \u001b[38;5;241m=\u001b[39m \u001b[43mtorch\u001b[49m\u001b[38;5;241;43m.\u001b[39;49m\u001b[43mTensor\u001b[49m\u001b[43m(\u001b[49m\u001b[43medge_feat_1\u001b[49m\u001b[43m)\u001b[49m\n\u001b[1;32m    112\u001b[0m \u001b[38;5;66;03m#         print('edge_feat_1',edge_feat_1)\u001b[39;00m\n\u001b[1;32m    113\u001b[0m         edge_feat_2 \u001b[38;5;241m=\u001b[39m torch\u001b[38;5;241m.\u001b[39mTensor(edge_feat_2)\n",
      "\u001b[0;31mValueError\u001b[0m: expected sequence of length 1 at dim 1 (got 3)"
     ]
    }
   ],
   "source": [
    "%%time\n",
    "\n",
    "for i , g in enumerate(graph):\n",
    "    g.ndata['h'] = th.ones(g.num_nodes(), g.edata['h'].shape[1])\n",
    "    adj = sp.coo_matrix((np.ones(g.num_edges()), (g.edges()[0], g.edges()[1]) ), \n",
    "                                        shape=( g.num_nodes(),  g.num_nodes()), dtype=np.float32).toarray()\n",
    "    adj = th.from_numpy(adj).cuda()\n",
    "    adj_lists = defaultdict(set)\n",
    "    \n",
    "    #g1 = dgl.add_self_loop(g)\n",
    "    g1 = g\n",
    "    for x in range(g1.num_edges()):  \n",
    "        adj_lists[g1.edges()[0][x].item()].add(g1.edges()[1][x].item())\n",
    "\n",
    "    \n",
    "    g = g.to('cuda:0')\n",
    "    node_feats = g.ndata['h']\n",
    "    edge_feats = g.edata['h']\n",
    "    \n",
    "    for epoch in range(1, num_epochs + 1):\n",
    "        nodes_batch = th.randint(0, g.num_nodes(), (num, )) \n",
    "        node_neighbor_cen = sub_sam(nodes_batch, adj_lists, k1)\n",
    "        #print('node_neighbor_cen',len(node_neighbor_cen))\n",
    "        loss = train(model, g, node_feats, edge_feats, adj, node_neighbor_cen)\n",
    "    del adj,g\n",
    "    gc.collect()\n",
    "    th.cuda.empty_cache()\n",
    "    th.cuda.empty_cache()\n",
    "    th.cuda.empty_cache()\n",
    "    th.cuda.empty_cache()\n",
    "    th.cuda.empty_cache()\n",
    "    print('#################################')\n",
    "    print(i)\n",
    "\n",
    "    \n"
   ]
  },
  {
   "cell_type": "code",
   "execution_count": 38,
   "id": "c75393c8",
   "metadata": {},
   "outputs": [],
   "source": [
    "X_test = encoder.transform(X_test)"
   ]
  },
  {
   "cell_type": "code",
   "execution_count": 39,
   "id": "c9e1bfed",
   "metadata": {},
   "outputs": [
    {
     "name": "stdout",
     "output_type": "stream",
     "text": [
      "CPU times: user 9.43 s, sys: 290 ms, total: 9.72 s\n",
      "Wall time: 9.72 s\n"
     ]
    }
   ],
   "source": [
    "%%time\n",
    "X_test[cols_to_norm] = scaler.transform(X_test[cols_to_norm])\n",
    "\n",
    "X_test['h'] = X_test[ cols_to_norm ].values.tolist()\n",
    "G_test = nx.from_pandas_edgelist(X_test, \"IPV4_SRC_ADDR\", \"IPV4_DST_ADDR\", ['h','label'],create_using=nx.MultiGraph())\n",
    "G_test = G_test.to_directed()\n",
    "\n",
    "G_test = from_networkx(G_test,edge_attrs=['h','label'] )\n",
    "#actual = G_test.edata.pop('label')\n",
    "\n",
    "G_test.ndata['feature'] = th.ones(G_test.num_nodes(), G_test.edata['h'].shape[1])\n"
   ]
  },
  {
   "cell_type": "code",
   "execution_count": 40,
   "id": "aff138e0",
   "metadata": {},
   "outputs": [],
   "source": [
    "device = 'cuda:0' \n",
    "G_test = G_test.to(device) "
   ]
  },
  {
   "cell_type": "code",
   "execution_count": 41,
   "id": "97451998",
   "metadata": {},
   "outputs": [
    {
     "data": {
      "text/plain": [
       "device(type='cuda', index=0)"
      ]
     },
     "execution_count": 41,
     "metadata": {},
     "output_type": "execute_result"
    }
   ],
   "source": [
    "G_test.device"
   ]
  },
  {
   "cell_type": "code",
   "execution_count": 42,
   "id": "0e54c6dd",
   "metadata": {},
   "outputs": [],
   "source": [
    "device = 'cuda:0'"
   ]
  },
  {
   "cell_type": "code",
   "execution_count": 43,
   "id": "089c9cd4",
   "metadata": {},
   "outputs": [
    {
     "name": "stdout",
     "output_type": "stream",
     "text": [
      "CPU times: user 23.1 s, sys: 632 ms, total: 23.8 s\n",
      "Wall time: 23.8 s\n"
     ]
    }
   ],
   "source": [
    "%%time\n",
    "g = nx.from_pandas_edgelist(X_train, \"IPV4_SRC_ADDR\", \"IPV4_DST_ADDR\", ['h','label'],create_using=nx.MultiGraph())\n",
    "g = g.to_directed()\n",
    "g = from_networkx(g,edge_attrs=['h','label'] )"
   ]
  },
  {
   "cell_type": "code",
   "execution_count": 44,
   "id": "86cc6b92",
   "metadata": {},
   "outputs": [],
   "source": [
    "g.ndata['h'] = th.ones(g.num_nodes(), g.edata['h'].shape[1])"
   ]
  },
  {
   "cell_type": "code",
   "execution_count": 45,
   "id": "1df046a5",
   "metadata": {},
   "outputs": [],
   "source": [
    "g = g.to('cuda:0')"
   ]
  },
  {
   "cell_type": "code",
   "execution_count": 46,
   "id": "894c4d4c",
   "metadata": {},
   "outputs": [
    {
     "data": {
      "text/plain": [
       "device(type='cuda', index=0)"
      ]
     },
     "execution_count": 46,
     "metadata": {},
     "output_type": "execute_result"
    }
   ],
   "source": [
    "g.device"
   ]
  },
  {
   "cell_type": "code",
   "execution_count": 47,
   "id": "02d9e663",
   "metadata": {},
   "outputs": [],
   "source": [
    "# def test(model, g, G_test, node_feats,edge_feats, num):\n",
    "#     model.eval()\n",
    "#     embeds = model.embed(g,g.ndata['h'],g.edata['h']).detach()\n",
    "#     train_embs = embeds\n",
    "#     test_embs = model.embed(G_test,G_test.ndata['feature'],G_test.edata['h'])\n",
    "\n",
    "#     train_lbls = g.edata['label']\n",
    "#     test_lbls = G_test.edata['label']\n",
    "\n",
    "#     accs = []\n",
    "#     #xent = nn.CrossEntropyLoss(weight=class_weights)\n",
    "#     xent = nn.CrossEntropyLoss()\n",
    "\n",
    "#     for _ in range(num):\n",
    "#         log = MLPPredictor(8,len(data.Attack.value_counts()))\n",
    "#         opt = th.optim.Adam(log.parameters(), lr=0.01)\n",
    "#         #opt = th.optim.Adam(log.parameters())\n",
    "#         log.cuda()\n",
    "\n",
    "#         for _ in range(100):\n",
    "#             log.train()\n",
    "#             opt.zero_grad()\n",
    "\n",
    "#             logits = log(g, train_embs)\n",
    "#             loss = xent(logits, train_lbls) \n",
    "#             loss.backward(retain_graph=True)\n",
    "#             opt.step()\n",
    "\n",
    "#         logits = log(G_test, test_embs)\n",
    "#         preds = th.argmax(logits, dim=1)\n",
    "#         #print(preds.shape)\n",
    "#         acc = th.sum(preds == test_lbls).float() / test_lbls.shape[0]\n",
    "#         accs.append(acc * 100)\n",
    "\n",
    "#     maxnum = max(accs)\n",
    "#     minnum = min(accs)\n",
    "#     accs = th.stack(accs)\n",
    "#     print(accs.mean().item(), accs.std().item(), '###', maxnum.item(), minnum.item())\n",
    "#     return accs.mean().item()"
   ]
  },
  {
   "cell_type": "code",
   "execution_count": 48,
   "id": "cf2d8ebc",
   "metadata": {},
   "outputs": [],
   "source": [
    "# import os\n",
    "\n",
    "# os.environ['CUDA_LAUNCH_BLOCKING'] = '1'\n",
    "# acc = test(model, g, G_test, node_feats,edge_feats, 5)"
   ]
  },
  {
   "cell_type": "code",
   "execution_count": 49,
   "id": "69ffcfd7",
   "metadata": {},
   "outputs": [
    {
     "name": "stdout",
     "output_type": "stream",
     "text": [
      "CPU times: user 3min 23s, sys: 4min 43s, total: 8min 6s\n",
      "Wall time: 8min 7s\n"
     ]
    }
   ],
   "source": [
    "%%time \n",
    "embeds = model.embed(g,g.ndata['h'],g.edata['h']).detach()\n",
    "train_embs = embeds\n",
    "test_embs = model.embed(G_test,G_test.ndata['feature'],G_test.edata['h'])\n",
    "\n",
    "train_lbls = g.edata['label']\n",
    "test_lbls = G_test.edata['label']\n",
    "\n",
    "accs = []\n",
    "xent = nn.CrossEntropyLoss()\n",
    "\n",
    "\n",
    "log = MLPPredictor(G.edata['h'].shape[1], len(data.label.value_counts()))\n",
    "opt = th.optim.Adam(log.parameters(), lr=0.005, weight_decay=0.0 )\n",
    "log.cuda()\n",
    "\n",
    "for _ in range(15000):\n",
    "    log.train()\n",
    "    opt.zero_grad()\n",
    "\n",
    "    logits = log(g, train_embs)\n",
    "    loss = xent(logits, train_lbls) \n",
    "    loss.backward(retain_graph=True)\n",
    "    opt.step()\n",
    "\n",
    "logits = log(G_test, test_embs)\n",
    "preds = th.argmax(logits, dim=1)"
   ]
  },
  {
   "cell_type": "code",
   "execution_count": 50,
   "id": "46616c71",
   "metadata": {},
   "outputs": [
    {
     "data": {
      "text/plain": [
       "8"
      ]
     },
     "execution_count": 50,
     "metadata": {},
     "output_type": "execute_result"
    }
   ],
   "source": [
    "G.edata['h'].shape[1]"
   ]
  },
  {
   "cell_type": "code",
   "execution_count": 51,
   "id": "403d76ca",
   "metadata": {},
   "outputs": [
    {
     "data": {
      "text/plain": [
       "device(type='cpu')"
      ]
     },
     "execution_count": 51,
     "metadata": {},
     "output_type": "execute_result"
    }
   ],
   "source": [
    "preds = preds.to('cpu')\n",
    "preds.device"
   ]
  },
  {
   "cell_type": "code",
   "execution_count": 52,
   "id": "3f0a6d38",
   "metadata": {},
   "outputs": [
    {
     "data": {
      "text/plain": [
       "device(type='cpu')"
      ]
     },
     "execution_count": 52,
     "metadata": {},
     "output_type": "execute_result"
    }
   ],
   "source": [
    "test_lbls = test_lbls.to('cpu')\n",
    "test_lbls.device"
   ]
  },
  {
   "cell_type": "code",
   "execution_count": 53,
   "id": "fbb67757",
   "metadata": {},
   "outputs": [],
   "source": [
    "test_lbls = le.inverse_transform(test_lbls)\n",
    "preds = le.inverse_transform(preds)"
   ]
  },
  {
   "cell_type": "code",
   "execution_count": 54,
   "id": "268ff58d",
   "metadata": {},
   "outputs": [],
   "source": [
    "# test_lbls = [\"Normal\" if i == 0 else \"Attack\" for i in test_lbls]\n",
    "# preds = [\"Normal\" if i == 0 else \"Attack\" for i in preds]"
   ]
  },
  {
   "cell_type": "code",
   "execution_count": 55,
   "id": "596f66ef",
   "metadata": {},
   "outputs": [],
   "source": [
    "import numpy as np\n",
    "\n",
    "\n",
    "def plot_confusion_matrix(cm,\n",
    "                          target_names,\n",
    "                          title='Confusion matrix',\n",
    "                          cmap=None,\n",
    "                          normalize=True):\n",
    "    \n",
    "    import matplotlib.pyplot as plt\n",
    "    import numpy as np\n",
    "    import itertools\n",
    "\n",
    "    accuracy = np.trace(cm) / float(np.sum(cm))\n",
    "    misclass = 1 - accuracy\n",
    "\n",
    "    if cmap is None:\n",
    "        cmap = plt.get_cmap('Blues')\n",
    "\n",
    "    plt.figure(figsize=(12, 12))\n",
    "    plt.imshow(cm, interpolation='nearest', cmap=cmap)\n",
    "    plt.title(title)\n",
    "    plt.colorbar()\n",
    "\n",
    "    if target_names is not None:\n",
    "        tick_marks = np.arange(len(target_names))\n",
    "        plt.xticks(tick_marks, target_names, rotation=45)\n",
    "        plt.yticks(tick_marks, target_names)\n",
    "\n",
    "    if normalize:\n",
    "        cm = cm.astype('float') / cm.sum(axis=1)[:, np.newaxis]\n",
    "\n",
    "\n",
    "    thresh = cm.max() / 1.5 if normalize else cm.max() / 2\n",
    "    for i, j in itertools.product(range(cm.shape[0]), range(cm.shape[1])):\n",
    "        if normalize:\n",
    "            plt.text(j, i, \"{:0.4f}\".format(cm[i, j]),\n",
    "                     horizontalalignment=\"center\",\n",
    "                     color=\"white\" if cm[i, j] > thresh else \"black\")\n",
    "        else:\n",
    "            plt.text(j, i, \"{:,}\".format(cm[i, j]),\n",
    "                     horizontalalignment=\"center\",\n",
    "                     color=\"white\" if cm[i, j] > thresh else \"black\")\n",
    "\n",
    "\n",
    "    plt.tight_layout()\n",
    "    plt.ylabel('True label')\n",
    "    plt.xlabel('Predicted label\\naccuracy={:0.4f}; misclass={:0.4f}'.format(accuracy, misclass))\n",
    "    plt.show()"
   ]
  },
  {
   "cell_type": "code",
   "execution_count": 56,
   "id": "7b679269",
   "metadata": {},
   "outputs": [
    {
     "data": {
      "image/png": "[encoded data removed]",
      "text/plain": [
       "<Figure size 1200x1200 with 2 Axes>"
      ]
     },
     "metadata": {},
     "output_type": "display_data"
    }
   ],
   "source": [
    "from sklearn.metrics import confusion_matrix\n",
    "\n",
    "plot_confusion_matrix(cm = confusion_matrix(test_lbls, preds), \n",
    "                      normalize    = False,\n",
    "                      target_names = np.unique(test_lbls),\n",
    "                      title        = \"Confusion Matrix\")"
   ]
  },
  {
   "cell_type": "code",
   "execution_count": 57,
   "id": "24efdcb9",
   "metadata": {},
   "outputs": [],
   "source": [
    "test_lbls = list(test_lbls)\n",
    "preds = list(preds)"
   ]
  },
  {
   "cell_type": "code",
   "execution_count": 58,
   "id": "92610374",
   "metadata": {},
   "outputs": [
    {
     "name": "stderr",
     "output_type": "stream",
     "text": [
      "/opt/conda/lib/python3.10/site-packages/sklearn/metrics/_classification.py:1344: UndefinedMetricWarning: Precision and F-score are ill-defined and being set to 0.0 in labels with no predicted samples. Use `zero_division` parameter to control this behavior.\n",
      "  _warn_prf(average, modifier, msg_start, len(result))\n",
      "/opt/conda/lib/python3.10/site-packages/sklearn/metrics/_classification.py:1344: UndefinedMetricWarning: Precision and F-score are ill-defined and being set to 0.0 in labels with no predicted samples. Use `zero_division` parameter to control this behavior.\n",
      "  _warn_prf(average, modifier, msg_start, len(result))\n"
     ]
    },
    {
     "name": "stdout",
     "output_type": "stream",
     "text": [
      "                          precision    recall  f1-score   support\n",
      "\n",
      "                  Benign     0.9743    0.9826    0.9784    442392\n",
      "                     Bot     0.0000    0.0000    0.0000       940\n",
      "        Brute Force -Web     0.4783    0.4231    0.4490       156\n",
      "        Brute Force -XSS     0.0000    0.0000    0.0000       104\n",
      "        DDOS attack-HOIC     0.5000    0.2857    0.3636        14\n",
      "    DDOS attack-LOIC-UDP     0.6667    0.6400    0.6531       100\n",
      "  DDoS attacks-LOIC-HTTP     0.9982    0.9985    0.9984     22692\n",
      "   DoS attacks-GoldenEye     0.7879    0.8742    0.8288      1972\n",
      "        DoS attacks-Hulk     0.8999    0.5504    0.6831      6488\n",
      "DoS attacks-SlowHTTPTest     0.0000    0.0000    0.0000      6334\n",
      "   DoS attacks-Slowloris     0.9743    0.8562    0.9114      1370\n",
      "          FTP-BruteForce     0.4664    0.8720    0.6077     11602\n",
      "           Infilteration     0.0000    0.0000    0.0000      3724\n",
      "           SQL Injection     0.0000    0.0000    0.0000         2\n",
      "          SSH-Bruteforce     0.8434    0.8001    0.8212      5654\n",
      "\n",
      "                accuracy                         0.9505    503544\n",
      "               macro avg     0.5060    0.4855    0.4863    503544\n",
      "            weighted avg     0.9388    0.9505    0.9426    503544\n",
      "\n"
     ]
    },
    {
     "name": "stderr",
     "output_type": "stream",
     "text": [
      "/opt/conda/lib/python3.10/site-packages/sklearn/metrics/_classification.py:1344: UndefinedMetricWarning: Precision and F-score are ill-defined and being set to 0.0 in labels with no predicted samples. Use `zero_division` parameter to control this behavior.\n",
      "  _warn_prf(average, modifier, msg_start, len(result))\n"
     ]
    }
   ],
   "source": [
    "from sklearn.metrics import classification_report\n",
    "target_names = np.unique(test_lbls)\n",
    "print(classification_report(test_lbls, preds, target_names=target_names, digits=4))"
   ]
  },
  {
   "cell_type": "code",
   "execution_count": null,
   "id": "edaa14b5",
   "metadata": {},
   "outputs": [],
   "source": []
  },
  {
   "cell_type": "code",
   "execution_count": null,
   "id": "e36c64e4",
   "metadata": {},
   "outputs": [],
   "source": []
  },
  {
   "cell_type": "code",
   "execution_count": null,
   "id": "86200dd8",
   "metadata": {},
   "outputs": [],
   "source": []
  },
  {
   "cell_type": "code",
   "execution_count": null,
   "id": "5ddcad5b",
   "metadata": {},
   "outputs": [],
   "source": []
  },
  {
   "cell_type": "code",
   "execution_count": 59,
   "id": "ec3c28ff",
   "metadata": {},
   "outputs": [
    {
     "ename": "AttributeError",
     "evalue": "'DataFrame' object has no attribute 'Label'",
     "output_type": "error",
     "traceback": [
      "\u001b[0;31m---------------------------------------------------------------------------\u001b[0m",
      "\u001b[0;31mAttributeError\u001b[0m                            Traceback (most recent call last)",
      "Cell \u001b[0;32mIn[59], line 1\u001b[0m\n\u001b[0;32m----> 1\u001b[0m \u001b[43mdata\u001b[49m\u001b[38;5;241;43m.\u001b[39;49m\u001b[43mLabel\u001b[49m\u001b[38;5;241m.\u001b[39mvalue_counts()\n",
      "File \u001b[0;32m/opt/conda/lib/python3.10/site-packages/pandas/core/generic.py:5902\u001b[0m, in \u001b[0;36mNDFrame.__getattr__\u001b[0;34m(self, name)\u001b[0m\n\u001b[1;32m   5895\u001b[0m \u001b[38;5;28;01mif\u001b[39;00m (\n\u001b[1;32m   5896\u001b[0m     name \u001b[38;5;129;01mnot\u001b[39;00m \u001b[38;5;129;01min\u001b[39;00m \u001b[38;5;28mself\u001b[39m\u001b[38;5;241m.\u001b[39m_internal_names_set\n\u001b[1;32m   5897\u001b[0m     \u001b[38;5;129;01mand\u001b[39;00m name \u001b[38;5;129;01mnot\u001b[39;00m \u001b[38;5;129;01min\u001b[39;00m \u001b[38;5;28mself\u001b[39m\u001b[38;5;241m.\u001b[39m_metadata\n\u001b[1;32m   5898\u001b[0m     \u001b[38;5;129;01mand\u001b[39;00m name \u001b[38;5;129;01mnot\u001b[39;00m \u001b[38;5;129;01min\u001b[39;00m \u001b[38;5;28mself\u001b[39m\u001b[38;5;241m.\u001b[39m_accessors\n\u001b[1;32m   5899\u001b[0m     \u001b[38;5;129;01mand\u001b[39;00m \u001b[38;5;28mself\u001b[39m\u001b[38;5;241m.\u001b[39m_info_axis\u001b[38;5;241m.\u001b[39m_can_hold_identifiers_and_holds_name(name)\n\u001b[1;32m   5900\u001b[0m ):\n\u001b[1;32m   5901\u001b[0m     \u001b[38;5;28;01mreturn\u001b[39;00m \u001b[38;5;28mself\u001b[39m[name]\n\u001b[0;32m-> 5902\u001b[0m \u001b[38;5;28;01mreturn\u001b[39;00m \u001b[38;5;28;43mobject\u001b[39;49m\u001b[38;5;241;43m.\u001b[39;49m\u001b[38;5;21;43m__getattribute__\u001b[39;49m\u001b[43m(\u001b[49m\u001b[38;5;28;43mself\u001b[39;49m\u001b[43m,\u001b[49m\u001b[43m \u001b[49m\u001b[43mname\u001b[49m\u001b[43m)\u001b[49m\n",
      "\u001b[0;31mAttributeError\u001b[0m: 'DataFrame' object has no attribute 'Label'"
     ]
    }
   ],
   "source": [
    "data.Label.value_counts()"
   ]
  },
  {
   "cell_type": "code",
   "execution_count": null,
   "id": "6bb19d71",
   "metadata": {},
   "outputs": [],
   "source": []
  }
 ],
 "metadata": {
  "kernelspec": {
   "display_name": "Python 3 (ipykernel)",
   "language": "python",
   "name": "python3"
  },
  "language_info": {
   "codemirror_mode": {
    "name": "ipython",
    "version": 3
   },
   "file_extension": ".py",
   "mimetype": "text/x-python",
   "name": "python",
   "nbconvert_exporter": "python",
   "pygments_lexer": "ipython3",
   "version": "3.10.8"
  }
 },
 "nbformat": 4,
 "nbformat_minor": 5
}
